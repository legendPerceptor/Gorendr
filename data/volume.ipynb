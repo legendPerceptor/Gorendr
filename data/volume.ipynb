{
 "cells": [
  {
   "cell_type": "code",
   "execution_count": 1,
   "id": "french-nerve",
   "metadata": {},
   "outputs": [],
   "source": [
    "import nrrd"
   ]
  },
  {
   "cell_type": "code",
   "execution_count": 2,
   "id": "changed-collapse",
   "metadata": {},
   "outputs": [],
   "source": [
    "import numpy as np"
   ]
  },
  {
   "cell_type": "code",
   "execution_count": 3,
   "id": "treated-praise",
   "metadata": {},
   "outputs": [
    {
     "data": {
      "text/plain": [
       "array([[ 0.08      ,  0.        ,  0.        , -1.95999992],\n",
       "       [ 0.        ,  0.05714286,  0.        , -1.97142863],\n",
       "       [ 0.        ,  0.        ,  0.04444445, -1.97777784]])"
      ]
     },
     "metadata": {},
     "output_type": "display_data"
    },
    {
     "data": {
      "text/plain": [
       "array([[ 0.08      ,  0.        ,  0.        , -1.95999992],\n",
       "       [ 0.        ,  0.05714286,  0.        , -1.97142863],\n",
       "       [ 0.        ,  0.        ,  0.04444445, -1.97777784],\n",
       "       [ 0.        ,  0.        ,  0.        ,  1.        ]])"
      ]
     },
     "metadata": {},
     "output_type": "display_data"
    }
   ],
   "source": [
    "data, header = nrrd.read(\"cube.nrrd\")\n",
    "mat = np.append(header['space directions'], header['space origin'][:, np.newaxis], axis=1)\n",
    "ItoW = np.append(mat, [[0, 0, 0, 1]], axis=0)\n",
    "display(mat)\n",
    "display(ItoW)"
   ]
  },
  {
   "cell_type": "code",
   "execution_count": 4,
   "id": "complex-court",
   "metadata": {},
   "outputs": [
    {
     "data": {
      "text/plain": [
       "(50, 70, 90)"
      ]
     },
     "execution_count": 4,
     "metadata": {},
     "output_type": "execute_result"
    }
   ],
   "source": [
    "data.shape"
   ]
  },
  {
   "cell_type": "code",
   "execution_count": 5,
   "id": "cubic-holmes",
   "metadata": {},
   "outputs": [],
   "source": [
    "data = data.astype('float64')\n",
    "ItoW = ItoW.astype('float64')"
   ]
  },
  {
   "cell_type": "code",
   "execution_count": 13,
   "id": "negative-adams",
   "metadata": {},
   "outputs": [],
   "source": [
    "np.save('cube.npy', data)"
   ]
  },
  {
   "cell_type": "code",
   "execution_count": 14,
   "id": "satisfied-kidney",
   "metadata": {},
   "outputs": [],
   "source": [
    "np.save('cube-meta.npy',ItoW)"
   ]
  },
  {
   "cell_type": "code",
   "execution_count": 7,
   "id": "metric-nomination",
   "metadata": {},
   "outputs": [],
   "source": [
    "data, header = nrrd.read(\"cube-luta.nrrd\")\n",
    "data = data.astype('float64')"
   ]
  },
  {
   "cell_type": "code",
   "execution_count": 9,
   "id": "literary-crazy",
   "metadata": {},
   "outputs": [
    {
     "data": {
      "text/plain": [
       "(4, 300)"
      ]
     },
     "execution_count": 9,
     "metadata": {},
     "output_type": "execute_result"
    }
   ],
   "source": [
    "data.shape"
   ]
  },
  {
   "cell_type": "code",
   "execution_count": 8,
   "id": "undefined-values",
   "metadata": {},
   "outputs": [],
   "source": [
    "np.save('cube-luta.npy', data)"
   ]
  }
 ],
 "metadata": {
  "kernelspec": {
   "display_name": "Python 3",
   "language": "python",
   "name": "python3"
  },
  "language_info": {
   "codemirror_mode": {
    "name": "ipython",
    "version": 3
   },
   "file_extension": ".py",
   "mimetype": "text/x-python",
   "name": "python",
   "nbconvert_exporter": "python",
   "pygments_lexer": "ipython3",
   "version": "3.8.5"
  }
 },
 "nbformat": 4,
 "nbformat_minor": 5
}
