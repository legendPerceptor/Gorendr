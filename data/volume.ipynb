{
 "cells": [
  {
   "cell_type": "code",
   "execution_count": 2,
   "id": "individual-chosen",
   "metadata": {},
   "outputs": [],
   "source": [
    "import nrrd"
   ]
  },
  {
   "cell_type": "code",
   "execution_count": 1,
   "id": "lovely-realtor",
   "metadata": {},
   "outputs": [],
   "source": [
    "import numpy as np"
   ]
  },
  {
   "cell_type": "code",
   "execution_count": 3,
   "id": "signal-owner",
   "metadata": {},
   "outputs": [
    {
     "data": {
      "text/plain": [
       "array([[ 0.08      ,  0.        ,  0.        , -1.95999992],\n",
       "       [ 0.        ,  0.05714286,  0.        , -1.97142863],\n",
       "       [ 0.        ,  0.        ,  0.04444445, -1.97777784]])"
      ]
     },
     "metadata": {},
     "output_type": "display_data"
    },
    {
     "data": {
      "text/plain": [
       "array([[ 0.08      ,  0.        ,  0.        , -1.95999992],\n",
       "       [ 0.        ,  0.05714286,  0.        , -1.97142863],\n",
       "       [ 0.        ,  0.        ,  0.04444445, -1.97777784],\n",
       "       [ 0.        ,  0.        ,  0.        ,  1.        ]])"
      ]
     },
     "metadata": {},
     "output_type": "display_data"
    }
   ],
   "source": [
    "data, header = nrrd.read(\"cube.nrrd\")\n",
    "mat = np.append(header['space directions'], header['space origin'][:, np.newaxis], axis=1)\n",
    "ItoW = np.append(mat, [[0, 0, 0, 1]], axis=0)\n",
    "display(mat)\n",
    "display(ItoW)"
   ]
  },
  {
   "cell_type": "code",
   "execution_count": 4,
   "id": "systematic-facial",
   "metadata": {},
   "outputs": [
    {
     "data": {
      "text/plain": [
       "(50, 70, 90)"
      ]
     },
     "execution_count": 4,
     "metadata": {},
     "output_type": "execute_result"
    }
   ],
   "source": [
    "data.shape"
   ]
  },
  {
   "cell_type": "code",
   "execution_count": 5,
   "id": "motivated-structure",
   "metadata": {},
   "outputs": [],
   "source": [
    "data = data.astype('float64')\n",
    "ItoW = ItoW.astype('float64')"
   ]
  },
  {
   "cell_type": "code",
   "execution_count": 13,
   "id": "accomplished-audience",
   "metadata": {},
   "outputs": [],
   "source": [
    "np.save('cube.npy', data)"
   ]
  },
  {
   "cell_type": "code",
   "execution_count": 14,
   "id": "exact-boutique",
   "metadata": {},
   "outputs": [],
   "source": [
    "np.save('cube-meta.npy',ItoW)"
   ]
  },
  {
   "cell_type": "code",
   "execution_count": 7,
   "id": "negative-spoke",
   "metadata": {},
   "outputs": [],
   "source": [
    "data, header = nrrd.read(\"cube-luta.nrrd\")\n",
    "data = data.astype('float64')"
   ]
  },
  {
   "cell_type": "code",
   "execution_count": 9,
   "id": "satisfactory-dating",
   "metadata": {},
   "outputs": [
    {
     "data": {
      "text/plain": [
       "(4, 300)"
      ]
     },
     "execution_count": 9,
     "metadata": {},
     "output_type": "execute_result"
    }
   ],
   "source": [
    "data.shape"
   ]
  },
  {
   "cell_type": "code",
   "execution_count": 8,
   "id": "forced-edition",
   "metadata": {},
   "outputs": [],
   "source": [
    "np.save('cube-luta.npy', data)"
   ]
  },
  {
   "cell_type": "code",
   "execution_count": 3,
   "id": "entire-conservation",
   "metadata": {},
   "outputs": [
    {
     "data": {
      "text/plain": [
       "array([[[ 0.,  1.,  2.],\n",
       "        [ 3.,  4.,  5.],\n",
       "        [ 6.,  7.,  8.]],\n",
       "\n",
       "       [[ 9., 10., 11.],\n",
       "        [12., 13., 14.],\n",
       "        [15., 16., 17.]],\n",
       "\n",
       "       [[18., 19., 20.],\n",
       "        [21., 22., 23.],\n",
       "        [24., 25., 26.]]])"
      ]
     },
     "execution_count": 3,
     "metadata": {},
     "output_type": "execute_result"
    }
   ],
   "source": [
    "t = np.arange(27)\n",
    "q = t.reshape(3,3,3).astype('float64')\n",
    "q"
   ]
  },
  {
   "cell_type": "code",
   "execution_count": 4,
   "id": "continental-oakland",
   "metadata": {},
   "outputs": [],
   "source": [
    "np.save('test-cube.npy', q)"
   ]
  }
 ],
 "metadata": {
  "kernelspec": {
   "display_name": "Python 3",
   "language": "python",
   "name": "python3"
  },
  "language_info": {
   "codemirror_mode": {
    "name": "ipython",
    "version": 3
   },
   "file_extension": ".py",
   "mimetype": "text/x-python",
   "name": "python",
   "nbconvert_exporter": "python",
   "pygments_lexer": "ipython3",
   "version": "3.8.5"
  }
 },
 "nbformat": 4,
 "nbformat_minor": 5
}
